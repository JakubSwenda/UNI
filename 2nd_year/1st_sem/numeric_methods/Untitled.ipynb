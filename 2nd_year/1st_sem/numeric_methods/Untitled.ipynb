{
 "cells": [
  {
   "cell_type": "code",
   "execution_count": 1,
   "id": "0bea4159",
   "metadata": {},
   "outputs": [
    {
     "name": "stderr",
     "output_type": "stream",
     "text": [
      "C:\\Users\\Kuba\\AppData\\Local\\Temp\\ipykernel_2564\\4055583538.py:13: RuntimeWarning: overflow encountered in double_scalars\n",
      "  dir = br*T*Ir - a*Ir + (1-epsilon)*mi*bs*Is*T\n",
      "C:\\Users\\Kuba\\AppData\\Local\\Temp\\ipykernel_2564\\4055583538.py:13: RuntimeWarning: invalid value encountered in double_scalars\n",
      "  dir = br*T*Ir - a*Ir + (1-epsilon)*mi*bs*Is*T\n",
      "C:\\Users\\Kuba\\anaconda3\\lib\\site-packages\\matplotlib\\ticker.py:2073: RuntimeWarning: overflow encountered in multiply\n",
      "  steps = self._extended_steps * scale\n"
     ]
    },
    {
     "data": {
      "image/png": "[encoded data removed]",
      "text/plain": [
       "<Figure size 640x480 with 4 Axes>"
      ]
     },
     "metadata": {},
     "output_type": "display_data"
    },
    {
     "name": "stdout",
     "output_type": "stream",
     "text": [
      "0.0002499999999999998\n",
      "[nan, nan, nan, nan, nan]\n"
     ]
    }
   ],
   "source": [
    "import matplotlib.pyplot as plt\n",
    "from numpy import array, zeros, arange\n",
    "\n",
    "\n",
    "def HIV(state, t):\n",
    "    T = state[0]  # T kom. podatne\n",
    "    I = state[1]  # I kom. zainfekowane\n",
    "    Is = state[2]  # zainfekowane komorki wrazliwe na leczenie\n",
    "    Ir = state[3]  # ilosc wirusa odpornego na lek\n",
    "    dT = L - d * T - (1-epsilon) * b * T * I\n",
    "    di = (1-epsilon) * b * T * I - a * I\n",
    "    dis = (1-epsilon) * (1 - mi) * bs * Is * T - a * Is\n",
    "    dir = br*T*Ir - a*Ir + (1-epsilon)*mi*bs*Is*T\n",
    "    return array([dT, di, dis, dir])\n",
    "\n",
    "\n",
    "def Runge_Kutta(y, t, dt, derivative):\n",
    "    k1 = dt * derivative(y, t)\n",
    "    k2 = dt * derivative(y + k1 / 2., t + 0.5 * dt)\n",
    "    k3 = dt * derivative(y + k2 / 2., t + 0.5 * dt)\n",
    "    k4 = dt * derivative(y + k3, t + dt)\n",
    "    y_next = y + 1 / 6. * (k1 + 2 * k2 + 2 * k3 + k4)\n",
    "    return y_next\n",
    "\n",
    "\n",
    "d = 0.5  # szybkosc apoptozy kom. podatnych\n",
    "L = 5  # L szybkosc odtwa. kom. podatnych\n",
    "b = 0.25  # szybkosc infekowania kom. podatnych\n",
    "a = 1  # szybkosc niszczenia kom. zak.jan\n",
    "\n",
    "epsilon = 0.9 # wspolczynnik zredukowania infekcji\n",
    "\n",
    "bs = 0.25\n",
    "br = 0.24\n",
    "mi = 10**(-5) # mutacja wirusa\n",
    "stabline = mi / (1-(br/bs))\n",
    "\n",
    "Npodatne = 10 ** 9  # initial conditions 30*10**12 calkowita liczba kom.\n",
    "\n",
    "To = L/d\n",
    "Io = 1\n",
    "Iro = stabline\n",
    "\n",
    "dt = 0.1\n",
    "to = 0\n",
    "te = 10**3\n",
    "t = arange(to, te, dt)\n",
    "N = len(t)\n",
    "y = zeros([N, 4])\n",
    "y[0, 0] = To\n",
    "y[0, 1] = Io\n",
    "y[0, 2] = Io\n",
    "y[0, 3] = Iro\n",
    "\n",
    "for i in range(N - 1):\n",
    "    y[i + 1] = Runge_Kutta(y[i], t[i], dt, HIV)\n",
    "\n",
    "Tt = [y[j, 0] for j in range(N)]\n",
    "It = [y[j, 1] for j in range(N)]\n",
    "Ist = [y[j, 2] for j in range(N)]\n",
    "Irt = [y[j, 3] for j in range(N)]\n",
    "\n",
    "plt.subplot(4, 1, 1)\n",
    "plt.plot(t, Tt)\n",
    "plt.ylabel(\"T\")\n",
    "plt.xlabel(\"time\")\n",
    "plt.subplot(4, 1, 2)\n",
    "plt.plot(t, It)\n",
    "plt.ylabel(\"I\")\n",
    "plt.xlabel(\"time\")\n",
    "plt.subplot(4, 1, 3)\n",
    "plt.plot(t, Ist)\n",
    "plt.ylabel(\"Is\")\n",
    "plt.xlabel(\"time\")\n",
    "plt.subplot(4, 1, 4)\n",
    "plt.plot(t, Irt)\n",
    "plt.axhline(y=stabline, color='r', linestyle='-')\n",
    "plt.ylabel(\"Ir\")\n",
    "plt.xlabel(\"time\")\n",
    "plt.show()\n",
    "\n",
    "print(stabline)\n",
    "print(Irt[-5:])"
   ]
  },
  {
   "cell_type": "code",
   "execution_count": null,
   "id": "ea22c9fe",
   "metadata": {},
   "outputs": [],
   "source": []
  }
 ],
 "metadata": {
  "kernelspec": {
   "display_name": "Python 3 (ipykernel)",
   "language": "python",
   "name": "python3"
  },
  "language_info": {
   "codemirror_mode": {
    "name": "ipython",
    "version": 3
   },
   "file_extension": ".py",
   "mimetype": "text/x-python",
   "name": "python",
   "nbconvert_exporter": "python",
   "pygments_lexer": "ipython3",
   "version": "3.9.13"
  }
 },
 "nbformat": 4,
 "nbformat_minor": 5
}
