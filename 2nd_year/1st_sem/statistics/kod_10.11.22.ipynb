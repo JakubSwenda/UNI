{
 "cells": [
  {
   "cell_type": "code",
   "execution_count": 1,
   "metadata": {},
   "outputs": [],
   "source": [
    "from scipy import stats\n",
    "from scipy.stats import chi2, norm\n",
    "import math"
   ]
  },
  {
   "cell_type": "code",
   "execution_count": 14,
   "metadata": {},
   "outputs": [
    {
     "data": {
      "text/plain": [
       "0.732388966607423"
      ]
     },
     "execution_count": 14,
     "metadata": {},
     "output_type": "execute_result"
    }
   ],
   "source": [
    "stats.chi2.cdf(30,26)\n"
   ]
  },
  {
   "cell_type": "code",
   "execution_count": 23,
   "metadata": {},
   "outputs": [
    {
     "data": {
      "text/plain": [
       "24.995790139728616"
      ]
     },
     "execution_count": 23,
     "metadata": {},
     "output_type": "execute_result"
    }
   ],
   "source": [
    "stats.chi2.ppf(0.95, 15)"
   ]
  },
  {
   "cell_type": "code",
   "execution_count": 16,
   "metadata": {},
   "outputs": [
    {
     "data": {
      "text/plain": [
       "0.9065834967360727"
      ]
     },
     "execution_count": 16,
     "metadata": {},
     "output_type": "execute_result"
    }
   ],
   "source": [
    "#16\n",
    "stats.t.cdf(1.4, 12)"
   ]
  },
  {
   "cell_type": "code",
   "execution_count": 3,
   "metadata": {},
   "outputs": [
    {
     "data": {
      "text/plain": [
       "0.24849961225410255"
      ]
     },
     "execution_count": 3,
     "metadata": {},
     "output_type": "execute_result"
    }
   ],
   "source": [
    "### zad. 18\n",
    "\n",
    "\n",
    "1 - stats.f.cdf(1.5, 6, 14)"
   ]
  },
  {
   "cell_type": "code",
   "execution_count": 4,
   "metadata": {},
   "outputs": [
    {
     "data": {
      "text/plain": [
       "0.866596228235893"
      ]
     },
     "execution_count": 4,
     "metadata": {},
     "output_type": "execute_result"
    }
   ],
   "source": [
    "### zad. 19\n",
    "\n",
    "### Sn - zmienna o rozkładzie dwumianowym\n",
    "### p = pstwo poj. sukcesu = 0.1\n",
    "### n = liczba prób = 1000\n",
    "\n",
    "### używamy \"binom\" bo rozkł dwumianowy (binomial)\n",
    "\n",
    "1 - stats.binom.cdf(89, 1000, 0.1)"
   ]
  },
  {
   "cell_type": "code",
   "execution_count": 5,
   "metadata": {},
   "outputs": [
    {
     "name": "stdout",
     "output_type": "stream",
     "text": [
      "9.486832980505138\n"
     ]
    },
    {
     "data": {
      "text/plain": [
       "0.8768741501537365"
      ]
     },
     "execution_count": 5,
     "metadata": {},
     "output_type": "execute_result"
    }
   ],
   "source": [
    "pierwiastek = math.sqrt(90)\n",
    "print(pierwiastek)\n",
    "0,1251\n",
    "1 - stats.norm.cdf((89-100)/math.sqrt(90), 0,1)"
   ]
  },
  {
   "cell_type": "code",
   "execution_count": 10,
   "metadata": {},
   "outputs": [
    {
     "name": "stdout",
     "output_type": "stream",
     "text": [
      "Twoja średnia to 54.63157894736842\n",
      "Twoja mediana wynosi 59\n",
      "Odchylenie standardowe wynosi 11.54320640182301\n",
      "Moda jest równa 61.\n",
      "Twoje dane mają 19 elementów.\n"
     ]
    },
    {
     "data": {
      "text/plain": [
       "(array([3., 1., 2., 2., 1., 0., 5., 1., 3., 1.]),\n",
       " array([37. , 40.6, 44.2, 47.8, 51.4, 55. , 58.6, 62.2, 65.8, 69.4, 73. ]),\n",
       " <BarContainer object of 10 artists>)"
      ]
     },
     "execution_count": 10,
     "metadata": {},
     "output_type": "execute_result"
    },
    {
     "data": {
      "image/png": "[encoded data removed]",
      "text/plain": [
       "<Figure size 640x480 with 1 Axes>"
      ]
     },
     "metadata": {},
     "output_type": "display_data"
    }
   ],
   "source": [
    "### ZESTAW 4 ###\n",
    "\n",
    "### zad.1 - 5 w zeszycie\n",
    "\n",
    "### zad. 6:\n",
    "\n",
    "import statistics as st\n",
    "\n",
    "x = [37,39,39,41,45,46,48,48,52,59,59,61,61,61,64,67,69,69,73]\n",
    "\n",
    "średnia = st.mean(x)\n",
    "print(\"Twoja średnia to {}\".format(średnia))\n",
    "\n",
    "mediana = st.median(x)\n",
    "print(\"Twoja mediana wynosi {}\".format(mediana))\n",
    "\n",
    "### odchylenie standardowe\n",
    "s = st.stdev(x)\n",
    "print(\"Odchylenie standardowe wynosi {}\".format(s))\n",
    "\n",
    "moda = st.mode(x)\n",
    "print(\"Moda jest równa {}.\".format(moda))\n",
    "\n",
    "n = len(x)\n",
    "print(\"Twoje dane mają {} elementów.\".format(n))\n",
    "\n",
    "import matplotlib.pyplot as plt\n",
    "plt.hist(x)"
   ]
  },
  {
   "cell_type": "markdown",
   "metadata": {},
   "source": []
  },
  {
   "cell_type": "code",
   "execution_count": 17,
   "metadata": {},
   "outputs": [
    {
     "data": {
      "text/plain": [
       "0.9065834967360727"
      ]
     },
     "execution_count": 17,
     "metadata": {},
     "output_type": "execute_result"
    }
   ],
   "source": [
    "stats.t.cdf(1.4, 12)"
   ]
  },
  {
   "cell_type": "code",
   "execution_count": 19,
   "metadata": {},
   "outputs": [
    {
     "data": {
      "text/plain": [
       "0.24849961225410255"
      ]
     },
     "execution_count": 19,
     "metadata": {},
     "output_type": "execute_result"
    }
   ],
   "source": [
    "1-stats.f.cdf(1.5,6,14)"
   ]
  },
  {
   "cell_type": "code",
   "execution_count": 26,
   "metadata": {},
   "outputs": [
    {
     "data": {
      "text/plain": [
       "-2.262157162740992"
      ]
     },
     "execution_count": 26,
     "metadata": {},
     "output_type": "execute_result"
    }
   ],
   "source": [
    "stats.t.ppf(0.025,9)"
   ]
  },
  {
   "cell_type": "code",
   "execution_count": null,
   "metadata": {},
   "outputs": [],
   "source": []
  }
 ],
 "metadata": {
  "kernelspec": {
   "display_name": "Python 3 (ipykernel)",
   "language": "python",
   "name": "python3"
  },
  "language_info": {
   "codemirror_mode": {
    "name": "ipython",
    "version": 3
   },
   "file_extension": ".py",
   "mimetype": "text/x-python",
   "name": "python",
   "nbconvert_exporter": "python",
   "pygments_lexer": "ipython3",
   "version": "3.9.13"
  }
 },
 "nbformat": 4,
 "nbformat_minor": 2
}
