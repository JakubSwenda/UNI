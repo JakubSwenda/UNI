{
 "cells": [
  {
   "cell_type": "markdown",
   "id": "9be093a1",
   "metadata": {},
   "source": [
    "# ZESTAW 5"
   ]
  },
  {
   "cell_type": "code",
   "execution_count": null,
   "id": "ece26ac3",
   "metadata": {},
   "outputs": [],
   "source": [
    "#10\n",
    "import pandas as pd\n",
    "import matplotlib.pyplot as plt\n",
    "antybiotyki=pd.read_excel('Antybiotyki2.xls','Dane 2')\n",
    "dane=antybiotyki[['Dni hospitalizacji', 'Wiek', 'Temperatura', 'WBC']]\n",
    "print(dane,'\\n\\n')\n",
    "srednia=dane.mean()\n",
    "mediana=dane.median()\n",
    "odchyl=dane.std()\n",
    "dominanta=dane.mode()\n",
    "print('\\n\\nSrednia\\n\\n',srednia,'\\n\\nMediana\\n\\n',mediana,'\\n\\nOdchylenie stand.\\n\\n',odchyl,'\\n\\nDominanta\\n\\n',dominanta)\n",
    "\n",
    "\n",
    "otrzym=antybiotyki[['Dni hospitalizacji', 'Wiek', 'Temperatura', 'WBC']].loc[antybiotyki['Antybiotyk']=='T']\n",
    "notrzym=antybiotyki[['Dni hospitalizacji', 'Wiek', 'Temperatura', 'WBC']].loc[antybiotyki['Antybiotyk']=='N']\n",
    "\n",
    "print('\\nOtrzymali antybiotyk\\n', otrzym)\n",
    "print('\\n Nie otrzymali antybiotykow\\n', notrzym)\n",
    "\n",
    "srednia2=otrzym.mean()\n",
    "mediana2=otrzym.median()\n",
    "odchyl2=otrzym.std()\n",
    "dominanta2=otrzym.mode()\n",
    "print('\\n\\nSrednia z tych co otrzymali\\n\\n',srednia2,'\\n\\nMediana z tych co otrzymali\\n\\n',mediana2,'\\n\\nOdchylenie stand. z tych co otrzymali\\n\\n',odchyl2,'\\n\\nDominanta z tych co otrzymali\\n\\n',dominanta2)\n",
    "\n",
    "srednia3=notrzym.mean()\n",
    "mediana3=notrzym.median()\n",
    "odchyl3=notrzym.std()\n",
    "dominanta3=notrzym.mode()\n",
    "print('\\n\\nSrednia z tych co nie otrzymali\\n\\n',srednia3,'\\n\\nMediana z tych co nie otrzymali\\n\\n',mediana3,'\\n\\nOdchylenie stand. z tych co nie otrzymali\\n\\n',odchyl3,'\\n\\nDominanta z tych co nie otrzymali\\n\\n',dominanta3)\n",
    "\n",
    "\n",
    "kobiety=antybiotyki[['Dni hospitalizacji', 'Wiek', 'Temperatura', 'WBC']].loc[antybiotyki['Płeć']=='K']\n",
    "mezczyzni=antybiotyki[['Dni hospitalizacji', 'Wiek', 'Temperatura', 'WBC']].loc[antybiotyki['Płeć']=='M']\n",
    "\n",
    "kobiety['WBC'].hist()\n",
    "plt.show()\n",
    "mezczyzni[\"WBC\"].hist()\n",
    "plt.show()\n",
    "\n",
    "dane['Wiek'].hist()\n",
    "plt.show"
   ]
  }
 ],
 "metadata": {
  "kernelspec": {
   "display_name": "Python 3 (ipykernel)",
   "language": "python",
   "name": "python3"
  },
  "language_info": {
   "codemirror_mode": {
    "name": "ipython",
    "version": 3
   },
   "file_extension": ".py",
   "mimetype": "text/x-python",
   "name": "python",
   "nbconvert_exporter": "python",
   "pygments_lexer": "ipython3",
   "version": "3.9.13"
  }
 },
 "nbformat": 4,
 "nbformat_minor": 5
}
