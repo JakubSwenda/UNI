{
 "cells": [
  {
   "cell_type": "code",
   "execution_count": 1,
   "id": "b5460fc1",
   "metadata": {},
   "outputs": [],
   "source": [
    "import pandas as pd\n",
    "import statistics as stats\n",
    "import seaborn as sns\n",
    "import numpy as np"
   ]
  },
  {
   "cell_type": "markdown",
   "id": "16822984",
   "metadata": {},
   "source": [
    "# ZESTAW 4"
   ]
  },
  {
   "cell_type": "markdown",
   "id": "9f7e4c16",
   "metadata": {},
   "source": [
    "# zadanie 1"
   ]
  },
  {
   "cell_type": "code",
   "execution_count": 2,
   "id": "73c8eed1",
   "metadata": {},
   "outputs": [
    {
     "name": "stdout",
     "output_type": "stream",
     "text": [
      "5 5.0\n"
     ]
    }
   ],
   "source": [
    "#a)\n",
    "x=[3, 5, 2, 6, 5, 9, 5, 2, 8, 6]\n",
    "median=stats.median(x)\n",
    "mode=stats.mode(x)\n",
    "print(mode,median)"
   ]
  },
  {
   "cell_type": "code",
   "execution_count": 3,
   "id": "7b1612c2",
   "metadata": {},
   "outputs": [
    {
     "name": "stdout",
     "output_type": "stream",
     "text": [
      "51.6 49.5\n"
     ]
    }
   ],
   "source": [
    "#b)\n",
    "x=[51.6, 48.7,50.3, 49.5, 48.9]\n",
    "median=stats.median(x)\n",
    "mode=stats.mode(x)\n",
    "print(mode,median)"
   ]
  },
  {
   "cell_type": "markdown",
   "id": "13ca2bdf",
   "metadata": {},
   "source": [
    "# zadanie 2"
   ]
  },
  {
   "cell_type": "code",
   "execution_count": 4,
   "id": "d037587e",
   "metadata": {},
   "outputs": [
    {
     "name": "stdout",
     "output_type": "stream",
     "text": [
      "2.330951164939612\n"
     ]
    }
   ],
   "source": [
    "x=[ 3, 5, 2, 6, 5, 9, 5, 2, 8, 6]\n",
    "print(stats.stdev(x))"
   ]
  },
  {
   "cell_type": "markdown",
   "id": "c22165ab",
   "metadata": {},
   "source": [
    "# zadanie 3"
   ]
  },
  {
   "cell_type": "code",
   "execution_count": 5,
   "id": "bbe3aa9e",
   "metadata": {},
   "outputs": [
    {
     "name": "stdout",
     "output_type": "stream",
     "text": [
      "15.5 13.0 20.75\n"
     ]
    }
   ],
   "source": [
    "#a)\n",
    "x=[ 13, 13, 17, 7, 22, 22,26, 17, 13, 14]\n",
    "median=stats.median(x)\n",
    "q1=np.quantile(x, 0.25)\n",
    "q3=np.quantile(x,0.75)\n",
    "print(median, q1, q3)"
   ]
  },
  {
   "cell_type": "code",
   "execution_count": 6,
   "id": "533de024",
   "metadata": {},
   "outputs": [
    {
     "name": "stdout",
     "output_type": "stream",
     "text": [
      "11 8.0 16.0\n"
     ]
    }
   ],
   "source": [
    "#b)\n",
    "x=[ 16, 10, 16, 7, 17, 8, 6, 11, 21]\n",
    "median=stats.median(x)\n",
    "q1=np.quantile(x, 0.25)\n",
    "q3=np.quantile(x,0.75)\n",
    "print(median, q1, q3)"
   ]
  },
  {
   "cell_type": "markdown",
   "id": "29273d68",
   "metadata": {},
   "source": [
    "# zadanie 4"
   ]
  },
  {
   "cell_type": "code",
   "execution_count": 13,
   "id": "14702490",
   "metadata": {},
   "outputs": [
    {
     "name": "stdout",
     "output_type": "stream",
     "text": [
      "3.25 5 1.625 0.65 6 1\n",
      "1.25 4.5\n"
     ]
    }
   ],
   "source": [
    "x=[ 3, 6, 2, 1, 1, 5]\n",
    "median=stats.median(x)\n",
    "q1=np.percentile(x, 25)\n",
    "q3=np.percentile(x, 75)\n",
    "rozstkw=q3-q1\n",
    "max=np.max(x)\n",
    "min=np.min(x)\n",
    "rozst=max-min\n",
    "odchylcw=rozstkw/2\n",
    "zmiennmed=odchylcw/median\n",
    "print(rozstkw,rozst,odchylcw,zmiennmed, max, min)\n",
    "print(q1, q3)"
   ]
  },
  {
   "cell_type": "markdown",
   "id": "05a2a5ba",
   "metadata": {},
   "source": [
    "# zadanie 5"
   ]
  },
  {
   "cell_type": "code",
   "execution_count": 8,
   "id": "9b76ff61",
   "metadata": {},
   "outputs": [],
   "source": [
    "x=[13, 13, 17, 7, 22, 22, 26, 17, 13, 14]\n"
   ]
  },
  {
   "cell_type": "markdown",
   "id": "1e3e18a4",
   "metadata": {},
   "source": [
    "# zadanie 6"
   ]
  },
  {
   "cell_type": "code",
   "execution_count": 33,
   "id": "5db31eeb",
   "metadata": {},
   "outputs": [
    {
     "name": "stdout",
     "output_type": "stream",
     "text": [
      "19\n",
      "54.63157894736842 59 11.54320640182301 61\n"
     ]
    },
    {
     "data": {
      "text/plain": [
       "(array([0.21052632, 0.47368421, 0.78947368, 1.        ]),\n",
       " array([35, 45, 55, 65, 75]),\n",
       " <BarContainer object of 4 artists>)"
      ]
     },
     "execution_count": 33,
     "metadata": {},
     "output_type": "execute_result"
    },
    {
     "data": {
      "image/png": "[encoded data removed]",
      "text/plain": [
       "<Figure size 640x480 with 1 Axes>"
      ]
     },
     "metadata": {},
     "output_type": "display_data"
    }
   ],
   "source": [
    "import matplotlib.pyplot as plt\n",
    "x = [37, 39, 39, 41, 45, 46, 48, 48, 52, 59, 59, 61, 61, 61, 64, 67, 69, 69, 73]\n",
    "srednia=stats.mean(x)\n",
    "median=stats.median(x)\n",
    "odchyl=stats.stdev(x)\n",
    "mode=stats.mode(x)\n",
    "print(len(x))\n",
    "print(srednia, median, odchyl, mode)\n",
    "y = list(range(35, 85, 10))\n",
    "plt.hist(x,bins=y, density=1, cumulative=1)"
   ]
  },
  {
   "cell_type": "code",
   "execution_count": null,
   "id": "09352ea4",
   "metadata": {},
   "outputs": [],
   "source": []
  }
 ],
 "metadata": {
  "kernelspec": {
   "display_name": "Python 3 (ipykernel)",
   "language": "python",
   "name": "python3"
  },
  "language_info": {
   "codemirror_mode": {
    "name": "ipython",
    "version": 3
   },
   "file_extension": ".py",
   "mimetype": "text/x-python",
   "name": "python",
   "nbconvert_exporter": "python",
   "pygments_lexer": "ipython3",
   "version": "3.9.13"
  }
 },
 "nbformat": 4,
 "nbformat_minor": 5
}
