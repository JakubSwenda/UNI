{
 "cells": [
  {
   "cell_type": "markdown",
   "id": "4e11f48b",
   "metadata": {},
   "source": [
    "#  Wykład 2.  Mr. Taylor, Miejsca zerowe, zbieżność, pochodna\n",
    " szereg Taylora:\n",
    " $$f(x)=f(x_i)+(x-x_i)f'(x_i)+\\frac{(x-x_i)^2}{2!}f''(x_i)+R $$\n",
    " \n",
    " ### Znajdowanie miejsc zerowych metodą Newtona-Rapsona\n",
    " W przypadku gdy funkcja osiąga miejsce zerowe jej wartość równa się zeru:\n",
    " $$f(x)=0$$ \n",
    " W takim przypadku zostawiając dwa wyrazy z szergu Taylora mamy:\n",
    " $$x=x_i-\\frac{f(x_i)}{f'(x_i)}$$\n",
    "  Zanalizujmy błąd popełniany w trakcie procedury rekurencyjnej:\\\n",
    " $$x_{i+1}=x_i-\\frac{f(x_i)}{f'(x_i)}$$\n",
    " \n",
    " Błąd $i$-tej iteracji zdefiniujemy $\\epsilon_i=(x-x_i)$. Wtedy\n",
    " $$\\epsilon_{i+1}=\\epsilon_i+\\frac{f(x_i)}{f'(x_i)}$$\n",
    " Zostawiając 2 wyrazy z szeregu Taylora możemy napisać:\n",
    " $$f(x_i) = -\\epsilon f'(x_i)-\\frac{\\epsilon_i^2}{2}f''(x_i) $$\n",
    " Łącząc dwa powyższe wzory dostajemy:\n",
    " $$ \\epsilon_{i+1}=-\\frac{\\epsilon_i^2f''(x_i)}{2f'(x_i)}$$\n",
    " "
   ]
  },
  {
   "cell_type": "code",
   "execution_count": 19,
   "id": "48028a39",
   "metadata": {},
   "outputs": [
    {
     "name": "stdout",
     "output_type": "stream",
     "text": [
      "Enter starting value a:0\n",
      "Enter b:4\n",
      "i=0 x= -6.0000000 f(x)= 36.0000000\n",
      "i=1 x= -3.2307692 f(x)=  7.6686391\n",
      "i=2 x= -2.2030135 f(x)=  1.0562819\n",
      "i=3 x= -2.0076238 f(x)=  0.0381771\n",
      "i=4 x= -2.0000116 f(x)=  0.0000579\n",
      "i=5 x= -2.0000000 f(x)=  0.0000000\n"
     ]
    },
    {
     "data": {
      "text/plain": [
       "[<matplotlib.lines.Line2D at 0x7f797a8a7700>]"
      ]
     },
     "execution_count": 19,
     "metadata": {},
     "output_type": "execute_result"
    },
    {
     "data": {
      "image/png": "[encoded data removed]",
      "text/plain": [
       "<Figure size 432x288 with 1 Axes>"
      ]
     },
     "metadata": {
      "needs_background": "light"
     },
     "output_type": "display_data"
    }
   ],
   "source": [
    "import numpy as np\n",
    "import matplotlib.pyplot as plt\n",
    "epsilon=1.0e-8\n",
    "dy=10\n",
    "def f(x):\n",
    "    fx=(x-3)*(x+2)\n",
    "    return fx\n",
    "def fp(x):\n",
    "    return 2*x-1\n",
    "a=float(input(\"Enter starting value a:\"))\n",
    "b=float(input(\"Enter b:\"))\n",
    "A=a\n",
    "B=b\n",
    "imax=100000\n",
    "i=0\n",
    "while dy>epsilon and i<imax:\n",
    "    x=a-f(a)/fp(a)\n",
    "    dy=abs(f(x))\n",
    "    a=x\n",
    "    print( \"i=%d x= %10.7f f(x)= %10.7f\" % (i, x, f(x)))\n",
    "    i+=1\n",
    "h=0.01\n",
    "x=np.arange(A,B,h)\n",
    "plt.plot(x,f(x))"
   ]
  },
  {
   "cell_type": "markdown",
   "id": "3e60c05c",
   "metadata": {},
   "source": [
    "### Znajdowanie miejsc zerowych metodą fałszywej pozycji\n",
    "Niech miejsce zerowe $x$ będzie w przedziale $a\\le x \\le c$. Możemy przybliżyć funkcję pomiędzy punktami $(a,f(a))$ i $(b,f(b))$ przez linię prostą\n",
    "$$p(x)=\\frac{x-c}{a-c}f(a)+\\frac{x-a}{c-a}f(c).$$\n",
    "Wtedy $f(\\bar{x})\\simeq 0$\n",
    "$$\\bar{x}= \\frac{af(c)-cf(a)}{f(c)-f(a)}$$\n",
    "\n",
    "## Metoda Bisekcji (ćwiczenia)"
   ]
  },
  {
   "cell_type": "code",
   "execution_count": null,
   "id": "7fe706a4",
   "metadata": {},
   "outputs": [],
   "source": [
    "import numpy as np\n",
    "import matplotlib.pyplot as plt\n",
    "epsilon=1.0e-6\n",
    "def f(x):\n",
    "     f=np.exp(x)-x*x+1\n",
    "     return f\n",
    "a=float(input(\"Enter a:\"))\n",
    "b=float(input(\"Enter b:\"))\n",
    "A=a\n",
    "B=b\n",
    "dx=abs(a-b)\n",
    "imax=10**(6)\n",
    "i=0\n",
    "while dx>epsilon and i<imax:\n",
    "    x=(a+b)/2.0\n",
    "    if (f(a)*f(x) < 0):\n",
    "        b=x\n",
    "    else:\n",
    "        a=x\n",
    "    dx=abs(b-a)\n",
    "    i+=1\n",
    "print(\"root=\",x,\" value=\",f(x))\n",
    "h=0.01\n",
    "xvec=np.arange(A,B,h)\n",
    "plt.plot(xvec,f(xvec))\n",
    "plt.show()\n"
   ]
  },
  {
   "cell_type": "markdown",
   "id": "968efffa",
   "metadata": {},
   "source": [
    "# Numeryczne obliczanie pochodnych\n",
    "Szereg  Taylora\n",
    "$$ f(x+h)=f(x)+h\\cdot f'(x)+\\frac{h^2}{2}f''(x)+\\frac{h^3}{3!}f'''(x)+\\dots$$\n",
    "$$ f(x-h)=f(x)-h\\cdot f'(x)+\\frac{h^2}{2}f''(x)-\\frac{h^3}{3!}f'''(x)+\\dots$$\n",
    "Jeśli wyznaczymy z pierwszego równania $f'(x)$ to mamy\n",
    "$$ f'(x)=\\frac{f(x)-f(x-h)}{h}+\\mathcal{O}(h)$$\n",
    "Biorąc różnicę $f(x+h)-f(x-h)$ możemy podnieść dokładność\n",
    "$$f'(x)=\\frac{f(x+h)-f(x-h)}{2h}+\\mathcal{O}(h^2) $$\n",
    "Biorąc sumę $f(x+h)+f(x-h)$ otrzymujemy wzór na drugą pochodną\n",
    "$$f''(x)=\\frac{f(x+h)-2f(x)+f(x-h)}{2h}+\\mathcal{O}(h^2) $$"
   ]
  },
  {
   "cell_type": "code",
   "execution_count": 18,
   "id": "3da05d1a",
   "metadata": {},
   "outputs": [
    {
     "data": {
      "image/png": "[encoded data removed]",
      "text/plain": [
       "<Figure size 432x288 with 1 Axes>"
      ]
     },
     "metadata": {
      "needs_background": "light"
     },
     "output_type": "display_data"
    },
    {
     "data": {
      "text/plain": [
       "[<matplotlib.lines.Line2D at 0x7f797a8642e0>]"
      ]
     },
     "execution_count": 18,
     "metadata": {},
     "output_type": "execute_result"
    },
    {
     "data": {
      "image/png": "[encoded data removed]",
      "text/plain": [
       "<Figure size 432x288 with 1 Axes>"
      ]
     },
     "metadata": {
      "needs_background": "light"
     },
     "output_type": "display_data"
    }
   ],
   "source": [
    "import matplotlib.pyplot as plt\n",
    "def f(x):\n",
    "    y=10*x**3+x**2-9\n",
    "    return y\n",
    "a=-1.5\n",
    "b=1.5\n",
    "h=0.1\n",
    "derivative=[]\n",
    "flist=[]\n",
    "h2=0.5*h\n",
    "x=[]\n",
    "step=a+h\n",
    "fun=[]\n",
    "while (step < b):\n",
    "    step_forrward=step+h\n",
    "    step_backward=step-h\n",
    "    derivative.append((f(step_forrward)-f(step_backward))*h2)\n",
    "    x.append(step)\n",
    "    fun.append(f(step))\n",
    "    step=step+h\n",
    "plt.plot(x,derivative,'--r')\n",
    "plt.show()\n",
    "plt.plot(x,fun,'g')"
   ]
  },
  {
   "cell_type": "code",
   "execution_count": null,
   "id": "36d7e1b9",
   "metadata": {},
   "outputs": [],
   "source": []
  },
  {
   "cell_type": "code",
   "execution_count": null,
   "id": "9f1c3ac1",
   "metadata": {},
   "outputs": [],
   "source": []
  }
 ],
 "metadata": {
  "kernelspec": {
   "display_name": "Python 3 (ipykernel)",
   "language": "python",
   "name": "python3"
  },
  "language_info": {
   "codemirror_mode": {
    "name": "ipython",
    "version": 3
   },
   "file_extension": ".py",
   "mimetype": "text/x-python",
   "name": "python",
   "nbconvert_exporter": "python",
   "pygments_lexer": "ipython3",
   "version": "3.9.13"
  }
 },
 "nbformat": 4,
 "nbformat_minor": 5
}
